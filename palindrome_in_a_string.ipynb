{
  "nbformat": 4,
  "nbformat_minor": 0,
  "metadata": {
    "colab": {
      "name": "palindrome in a string.ipynb",
      "provenance": [],
      "collapsed_sections": [],
      "authorship_tag": "ABX9TyOV26U5I949DA3LhJ2QFJrO"
    },
    "kernelspec": {
      "name": "python3",
      "display_name": "Python 3"
    },
    "language_info": {
      "name": "python"
    }
  },
  "cells": [
    {
      "cell_type": "code",
      "metadata": {
        "colab": {
          "base_uri": "https://localhost:8080/",
          "height": 52
        },
        "id": "qI85QTv0Sm_C",
        "outputId": "0a0069b7-1084-4caa-81ce-2d4a8861c587"
      },
      "source": [
        "def palin(str1): #this function is to find the longest palindrome in a given string\n",
        "  a = str1 # creating a copy of string\n",
        "  b = str1[::-1] # this is to reverse a string and storing it into b\n",
        "  n = len(a) \n",
        "  lg = ' ' # defining a variable for longest palindrome as lg\n",
        "  if n == 0 or n==1:\n",
        "    return a\n",
        "  else:\n",
        "    for i in range (n):  # iterate from 0 to length of string i.e (n)\n",
        "      for k in range(i+2,n+1,1): # k value starts from 2 coz we choose first two values, and check whether this string is in reversed string i.e in (b), then it goes for 3,4,5,6,7,....n+1,\n",
        "    # the condition is upto n+1 becoz if the string is of length 3 then i+2 = 3 and our condition is upto n in this case it wont go for the third element, to overcome this i have to iterate it till n+1\n",
        "        if a[i:k] in b:\n",
        "          if len(lg) < len(a[i:k]):\n",
        "            lg = ''.join(a[i:k])\n",
        "  return lg\n",
        "str1 = input(\"enter a palindromic string: \")\n",
        "palin(str1)"
      ],
      "execution_count": 40,
      "outputs": [
        {
          "name": "stdout",
          "output_type": "stream",
          "text": [
            "enter a palindromic string: ABBABBC\n"
          ]
        },
        {
          "output_type": "execute_result",
          "data": {
            "application/vnd.google.colaboratory.intrinsic+json": {
              "type": "string"
            },
            "text/plain": [
              "'BBABB'"
            ]
          },
          "metadata": {},
          "execution_count": 40
        }
      ]
    }
  ]
}