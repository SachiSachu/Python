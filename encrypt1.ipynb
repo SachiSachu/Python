{
  "nbformat": 4,
  "nbformat_minor": 0,
  "metadata": {
    "colab": {
      "name": "encrypt1.ipynb",
      "provenance": [],
      "authorship_tag": "ABX9TyN/xJpmEQ5z1QcfP5Yi6FHB",
      "include_colab_link": true
    },
    "kernelspec": {
      "name": "python3",
      "display_name": "Python 3"
    },
    "language_info": {
      "name": "python"
    }
  },
  "cells": [
    {
      "cell_type": "markdown",
      "metadata": {
        "id": "view-in-github",
        "colab_type": "text"
      },
      "source": [
        "<a href=\"https://colab.research.google.com/github/SachiSachu/Python/blob/main/encrypt1.ipynb\" target=\"_parent\"><img src=\"https://colab.research.google.com/assets/colab-badge.svg\" alt=\"Open In Colab\"/></a>"
      ]
    },
    {
      "cell_type": "markdown",
      "metadata": {
        "id": "xxqp1L8GTyuz"
      },
      "source": [
        "convertion of main code into encrypted one"
      ]
    },
    {
      "cell_type": "code",
      "metadata": {
        "colab": {
          "base_uri": "https://localhost:8080/"
        },
        "id": "9dx-swdpTPob",
        "outputId": "4e3e85cc-0a7f-4834-f3e6-9b4b1d8279da"
      },
      "source": [
        "def convert(s1, s2):\n",
        "  lnt = s2.split(' ')\n",
        "  calc = []\n",
        "  ns = ''\n",
        "  for i in lnt:\n",
        "    calc.append(len(i))\n",
        "  calc.reverse()\n",
        "  count = 0\n",
        "  for i in range (len(s1)):\n",
        "    if s1[i] == ' ':\n",
        "      ns += s1[i]\n",
        "      count += 1\n",
        "    else:\n",
        "      n = ord(s1[i])\n",
        "      n += calc[count]\n",
        "      ns += chr(n)\n",
        "  return ns\n",
        "new = \"sachin is good boy\"\n",
        "decr = \"he is a bad guy\"\n",
        "print(convert(new, decr))"
      ],
      "execution_count": 48,
      "outputs": [
        {
          "output_type": "stream",
          "name": "stdout",
          "text": [
            "vdfklq lv hppe dq{\n"
          ]
        }
      ]
    },
    {
      "cell_type": "markdown",
      "metadata": {
        "id": "DWcrPfKchvN3"
      },
      "source": [
        "decryption of above code\n",
        "previous output was vdfklq lv hppe dq{"
      ]
    },
    {
      "cell_type": "code",
      "metadata": {
        "colab": {
          "base_uri": "https://localhost:8080/"
        },
        "id": "SWuiM5P8RwlD",
        "outputId": "74ea3589-db1d-4e39-d963-9ecf4de8dc97"
      },
      "source": [
        " def convert(s1, s2):\n",
        "  lnt = s2.split(' ')\n",
        "  calc = []\n",
        "  ns = ''\n",
        "  for i in lnt:\n",
        "    calc.append(len(i))\n",
        "  calc.reverse()\n",
        "  count = 0\n",
        "  for i in range (len(s1)):\n",
        "    if s1[i] == ' ':\n",
        "      ns += s1[i]\n",
        "      count += 1\n",
        "    else:\n",
        "      n = ord(s1[i])\n",
        "      n -= calc[count]\n",
        "      ns += chr(n)\n",
        "  return ns\n",
        "new1 = 'vdfklq lv hppe dq{'\n",
        "decr = \"he is a bad guy\"\n",
        "print(convert(new1, decr))\n"
      ],
      "execution_count": 47,
      "outputs": [
        {
          "output_type": "stream",
          "name": "stdout",
          "text": [
            "sachin is good boy\n"
          ]
        }
      ]
    }
  ]
}