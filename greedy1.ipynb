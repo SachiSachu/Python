{
  "nbformat": 4,
  "nbformat_minor": 0,
  "metadata": {
    "colab": {
      "name": "greedy1.ipynb",
      "provenance": [],
      "collapsed_sections": [],
      "authorship_tag": "ABX9TyMpLPuc+W/oHRFN+v1Xt4P6"
    },
    "kernelspec": {
      "name": "python3",
      "display_name": "Python 3"
    },
    "language_info": {
      "name": "python"
    }
  },
  "cells": [
    {
      "cell_type": "markdown",
      "metadata": {
        "id": "RvbH_cphGjCz"
      },
      "source": [
        "Given N stones\n",
        "each stone has some weight assigned to it\n",
        "given a box with capacity C\n",
        "question: the task is to find out the minimum no. of box/boxes is required to put all the stones in it\n",
        "Note--> C > arr[0]to arr[N] i.e capacity of box is greater than the max weight of stone"
      ]
    },
    {
      "cell_type": "code",
      "metadata": {
        "colab": {
          "base_uri": "https://localhost:8080/"
        },
        "id": "zV1o3EV7H97W",
        "outputId": "3284da2c-362d-40ae-a0ad-072620e8f972"
      },
      "source": [
        "n = int(input(\"enter the number of stones: \"))\n",
        "print(\"Now enter the weights of \",n,\" stones with white space separated: \")\n",
        "arr = list(map(int, input('').strip().split()))[:n]\n",
        "arr = sorted(arr)\n",
        "print('Now enter the capacity of box, which is greater than ',max(arr))\n",
        "c = int(input(\"\"))\n",
        "sum = 0\n",
        "count = 0\n",
        "for i in range(n):\n",
        "  if (sum+arr[i])<c:\n",
        "    sum = sum + arr[i]\n",
        "  else:\n",
        "    sum = 0\n",
        "    sum += arr[i]\n",
        "    count += 1\n",
        "count"
      ],
      "execution_count": 10,
      "outputs": [
        {
          "name": "stdout",
          "output_type": "stream",
          "text": [
            "enter the number of stones: 5\n",
            "Now enter the weights of  5  stones with white space separated: \n",
            "10 40 20 30 50\n",
            "Now enter the capacity of box, which is greater than  50\n",
            "60\n"
          ]
        },
        {
          "output_type": "execute_result",
          "data": {
            "text/plain": [
              "3"
            ]
          },
          "metadata": {},
          "execution_count": 10
        }
      ]
    }
  ]
}