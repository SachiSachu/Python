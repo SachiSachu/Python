{
  "nbformat": 4,
  "nbformat_minor": 0,
  "metadata": {
    "colab": {
      "name": "string reduction.ipynb",
      "provenance": [],
      "authorship_tag": "ABX9TyMKP1qBT34IYLGt/Q73Z374"
    },
    "kernelspec": {
      "name": "python3",
      "display_name": "Python 3"
    },
    "language_info": {
      "name": "python"
    }
  },
  "cells": [
    {
      "cell_type": "markdown",
      "metadata": {
        "id": "u9mmF0dtgalA"
      },
      "source": [
        "String reduction"
      ]
    },
    {
      "cell_type": "code",
      "metadata": {
        "colab": {
          "base_uri": "https://localhost:8080/"
        },
        "id": "KbcYJVNughMO",
        "outputId": "7805d8c9-10b7-4973-8d99-266c3a66d35a"
      },
      "source": [
        "def reds(str1):\n",
        "  str1 = list(str1)  # we convert the string to list\n",
        "  st = set(['a','b','c'])  # we have created a set with three inputs a,b, c\n",
        "  x = True\n",
        "  while x:\n",
        "    i = 0\n",
        "    x = False #after entering into the loop you just make your condition false to avoid infinite loop iteration\n",
        "    while i<len(str1)-1: \n",
        "      if str1[i] != str1[i+1]: # we'll compire the current elements with next element\n",
        "        str1[i:i+2] = list(st-set([str1[i],str1[i+1]]))  # we will replace the 2 index with single index and assigning it a differenr value\n",
        "        x = True # we will make again the condition true to check from the beginning\n",
        "      else:\n",
        "        i += 1 # if the current and next elements are same then we move forward for further elements for ex...if input aabcab, int his cur and next elements are a, so we will move our cur to second and third elements and so on\n",
        "  str1 = ''.join(str1) #coverting list into string again\n",
        "  return len(str1)\n",
        "reds(\"abcabc\")"
      ],
      "execution_count": 37,
      "outputs": [
        {
          "output_type": "execute_result",
          "data": {
            "text/plain": [
              "2"
            ]
          },
          "metadata": {},
          "execution_count": 37
        }
      ]
    }
  ]
}