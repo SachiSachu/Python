{
  "nbformat": 4,
  "nbformat_minor": 0,
  "metadata": {
    "colab": {
      "name": "string reduction.ipynb",
      "provenance": [],
      "authorship_tag": "ABX9TyNYH2kS37i0AZiSMty8LZ51"
    },
    "kernelspec": {
      "name": "python3",
      "display_name": "Python 3"
    },
    "language_info": {
      "name": "python"
    }
  },
  "cells": [
    {
      "cell_type": "markdown",
      "metadata": {
        "id": "u9mmF0dtgalA"
      },
      "source": [
        "String reduction"
      ]
    },
    {
      "cell_type": "code",
      "metadata": {
        "colab": {
          "base_uri": "https://localhost:8080/"
        },
        "id": "KbcYJVNughMO",
        "outputId": "16875f30-50f6-4191-cccd-40a0b9a14ee9"
      },
      "source": [
        "def reds(str1):\n",
        "  str1 = list(str1)  # we convert the string to list\n",
        "  st = set(['a','b','c'])  # we have created a set with three inputs a,b, c\n",
        "  x = True\n",
        "  while x:\n",
        "    i = 0\n",
        "    x = False #after entering into the loop you just make your condition false to avoid infinite loop iteration\n",
        "    while i<len(str1)-1: \n",
        "      if str1[i] != str1[i+1]: # we'll compire the current elements with next element\n",
        "        str1[i:i+2] = list(st-set([str1[i],str1[i+1]]))  # we will replace the 2 index with single index and assigning it a differenr value\n",
        "        print(str1)\n",
        "        x = True # we will make again the condition true to check from the beginning\n",
        "      else:\n",
        "        i += 1 # if the current and next elements are same then we move forward for further elements for ex...if input aabcab, int his cur and next elements are a, so we will move our cur to second and third elements and so on\n",
        "  str1 = ''.join(str1) #coverting list into string again\n",
        "  return len(str1)\n",
        "reds(\"abcabc\")"
      ],
      "execution_count": 44,
      "outputs": [
        {
          "output_type": "stream",
          "name": "stdout",
          "text": [
            "['c', 'c', 'a', 'b', 'c']\n",
            "['c', 'b', 'b', 'c']\n",
            "['c', 'b', 'a']\n",
            "['a', 'a']\n"
          ]
        },
        {
          "output_type": "execute_result",
          "data": {
            "text/plain": [
              "2"
            ]
          },
          "metadata": {},
          "execution_count": 44
        }
      ]
    },
    {
      "cell_type": "markdown",
      "metadata": {
        "id": "KCumIwdax0Kk"
      },
      "source": [
        "this is mathematical approach where you do not care about the string"
      ]
    },
    {
      "cell_type": "code",
      "metadata": {
        "colab": {
          "base_uri": "https://localhost:8080/"
        },
        "id": "SOeVprJdw5Sl",
        "outputId": "8f9ecc31-abb8-46e6-a9ab-1ecd3f3ba912"
      },
      "source": [
        "def reductions(string):\n",
        "    n = [0,0,0]\n",
        "    for letter in string:\n",
        "        if letter == 'a':\n",
        "            n[0]+=1\n",
        "        elif letter == 'b':\n",
        "            n[1]+=1\n",
        "        else:\n",
        "            n[2]+=1\n",
        "    print(n)\n",
        "    while True:\n",
        "        count = 0\n",
        "        for i in n:\n",
        "            if i == 0:\n",
        "                count+=1\n",
        "        if count>=2:\n",
        "            break\n",
        "\n",
        "        n.sort(reverse=True)\n",
        "        n[0]+=-1\n",
        "        n[1]+=-1\n",
        "        n[2]+=1\n",
        "        print(n)\n",
        "\n",
        "    sum = 0\n",
        "    for i in n:\n",
        "        sum+=i\n",
        "    print(sum)\n",
        "reductions('abcabbacc')"
      ],
      "execution_count": 45,
      "outputs": [
        {
          "output_type": "stream",
          "name": "stdout",
          "text": [
            "[3, 3, 3]\n",
            "[2, 2, 4]\n",
            "[3, 1, 3]\n",
            "[2, 2, 2]\n",
            "[1, 1, 3]\n",
            "[2, 0, 2]\n",
            "[1, 1, 1]\n",
            "[0, 0, 2]\n",
            "2\n"
          ]
        }
      ]
    },
    {
      "cell_type": "code",
      "metadata": {
        "id": "F294buHkxAe9"
      },
      "source": [
        ""
      ],
      "execution_count": null,
      "outputs": []
    }
  ]
}